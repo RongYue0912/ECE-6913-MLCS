{
  "nbformat": 4,
  "nbformat_minor": 0,
  "metadata": {
    "colab": {
      "name": "lab3_MLCS.ipynb",
      "provenance": [],
      "machine_shape": "hm"
    },
    "kernelspec": {
      "name": "python3",
      "display_name": "Python 3"
    },
    "language_info": {
      "name": "python"
    }
  },
  "cells": [
    {
      "cell_type": "markdown",
      "source": [
        "#Lab3#"
      ],
      "metadata": {
        "id": "zl-YCU7w7qx9"
      }
    },
    {
      "cell_type": "markdown",
      "source": [
        "##Preparation##"
      ],
      "metadata": {
        "id": "xXQdlU3Q70Qm"
      }
    },
    {
      "cell_type": "markdown",
      "source": [
        "Download data"
      ],
      "metadata": {
        "id": "W-7vXmDE7Isu"
      }
    },
    {
      "cell_type": "code",
      "execution_count": 1,
      "metadata": {
        "id": "osUz6Iw3qa4q",
        "colab": {
          "base_uri": "https://localhost:8080/"
        },
        "outputId": "65aea275-752e-486f-b3e9-41e20d227516"
      },
      "outputs": [
        {
          "output_type": "stream",
          "name": "stdout",
          "text": [
            "Downloading...\n",
            "From: https://drive.google.com/u/1/uc?id=1qw9NdAt8ZEi7_VnWwJkxEsBjjGsqGKKi\n",
            "To: /content/bd_test.h5\n",
            "100% 398M/398M [00:04<00:00, 92.0MB/s]\n",
            "Downloading...\n",
            "From: https://drive.google.com/u/1/uc?id=1oV766CvpLI4pKYaY_Eqx_oBqslcgN7HA\n",
            "To: /content/bd_valid.h5\n",
            "100% 716M/716M [00:08<00:00, 88.5MB/s]\n",
            "Downloading...\n",
            "From: https://drive.google.com/u/1/uc?id=1sfGnHkNSe19RPPVhBkFZkWFccIqLiV1A\n",
            "To: /content/test.h5\n",
            "100% 398M/398M [00:04<00:00, 88.9MB/s]\n",
            "Downloading...\n",
            "From: https://drive.google.com/u/1/uc?id=1xXCznQ48eykPwZ8o3Pb3t-pCLlutKz4J\n",
            "To: /content/valid.h5\n",
            "100% 716M/716M [00:07<00:00, 93.8MB/s]\n"
          ]
        }
      ],
      "source": [
        "!gdown https://drive.google.com/u/1/uc?id=1qw9NdAt8ZEi7_VnWwJkxEsBjjGsqGKKi #bd_test.h5\n",
        "!gdown https://drive.google.com/u/1/uc?id=1oV766CvpLI4pKYaY_Eqx_oBqslcgN7HA #bd_valid.h5\n",
        "\n",
        "!mkdir data\n",
        "!mkdir data/cl\n",
        "!mkdir data/bd\n",
        "!mv /content/bd_test.h5 /content/data/bd\n",
        "!mv /content/bd_valid.h5 /content/data/bd\n",
        "\n",
        "!gdown https://drive.google.com/u/1/uc?id=1sfGnHkNSe19RPPVhBkFZkWFccIqLiV1A #test.h5\n",
        "!gdown https://drive.google.com/u/1/uc?id=1xXCznQ48eykPwZ8o3Pb3t-pCLlutKz4J #valid.h5\n",
        "\n",
        "!mv /content/test.h5 /content/data/cl\n",
        "!mv /content/valid.h5 /content/data/cl\n"
      ]
    },
    {
      "cell_type": "markdown",
      "source": [
        "Download model"
      ],
      "metadata": {
        "id": "coO1oAh26nJE"
      }
    },
    {
      "cell_type": "code",
      "source": [
        "!gdown https://drive.google.com/u/1/uc?id=1PbrG_SqHTwG7wyKG1qm7SppZTmE0tV7Z&export=download #bd_net.h5\n",
        "!gdown https://drive.google.com/u/1/uc?id=1H8e5w0hWUPKW0kKn5R3nqmO6JlyHrLh9&export=download #bd_weights.h5\n",
        "\n",
        "!mkdir model\n",
        "!mv /content/bd_net.h5 /content/model\n",
        "!mv /content/bd_weights.h5 /content/model"
      ],
      "metadata": {
        "colab": {
          "base_uri": "https://localhost:8080/"
        },
        "id": "y0qPyrUO6pIU",
        "outputId": "d94d628a-6a87-4092-ee51-9a30cedd4d69"
      },
      "execution_count": 2,
      "outputs": [
        {
          "output_type": "stream",
          "name": "stdout",
          "text": [
            "Downloading...\n",
            "From: https://drive.google.com/u/1/uc?id=1PbrG_SqHTwG7wyKG1qm7SppZTmE0tV7Z\n",
            "To: /content/bd_net.h5\n",
            "100% 7.28M/7.28M [00:00<00:00, 27.5MB/s]\n",
            "Downloading...\n",
            "From: https://drive.google.com/u/1/uc?id=1H8e5w0hWUPKW0kKn5R3nqmO6JlyHrLh9\n",
            "To: /content/bd_weights.h5\n",
            "100% 2.44M/2.44M [00:00<00:00, 76.9MB/s]\n"
          ]
        }
      ]
    },
    {
      "cell_type": "code",
      "source": [
        "import os\n",
        "import sys\n",
        "import gdown\n",
        "import tempfile\n",
        "import copy\n",
        "import keras\n",
        "import keras.backend as K\n",
        "from keras import metrics\n",
        "import h5py\n",
        "import numpy as np\n",
        "import tensorflow as tf\n",
        "\n"
      ],
      "metadata": {
        "id": "ljS_m_5H8GLV"
      },
      "execution_count": 3,
      "outputs": []
    },
    {
      "cell_type": "code",
      "source": [
        "def data_loader(filepath):\n",
        "  data = h5py.File(filepath)\n",
        "  x_data = np.array(data['data'])\n",
        "  y_data = np.array(data['label'])\n",
        "  x_data = x_data.transpose((0,2,3,1))\n",
        "\n",
        "  return x_data, y_data\n",
        "\n",
        "def data_process(x_data):\n",
        "  return x_data/255"
      ],
      "metadata": {
        "id": "ETObbFUP8Ynd"
      },
      "execution_count": 4,
      "outputs": []
    },
    {
      "cell_type": "markdown",
      "source": [
        "##Load Data##"
      ],
      "metadata": {
        "id": "DDKJu92b8Z12"
      }
    },
    {
      "cell_type": "code",
      "source": [
        "bd_valid_data = '/content/data/bd/bd_valid.h5'\n",
        "bd_test_data = '/content/data/bd/bd_test.h5'\n",
        "cl_valid_data = '/content/data/cl/valid.h5'\n",
        "cl_test_data = '/content/data/cl/test.h5'\n",
        "\n",
        "bd_v_data_x, bd_v_data_y = data_loader(bd_valid_data)\n",
        "bd_t_data_x, bd_t_data_y = data_loader(bd_test_data)\n",
        "cl_v_data_x, cl_v_data_y = data_loader(cl_valid_data)\n",
        "cl_t_data_x, cl_t_data_y = data_loader(cl_test_data)"
      ],
      "metadata": {
        "id": "U-lTTq2o8ZQF"
      },
      "execution_count": 5,
      "outputs": []
    },
    {
      "cell_type": "markdown",
      "source": [
        "Let us take a look at the shape of data."
      ],
      "metadata": {
        "id": "BTQfDY3i-mML"
      }
    },
    {
      "cell_type": "code",
      "source": [
        "print(bd_v_data_x.shape)\n",
        "print(bd_v_data_y.shape)\n",
        "print(bd_t_data_x.shape)\n",
        "print(bd_t_data_y.shape)\n",
        "\n",
        "print(cl_v_data_x.shape)\n",
        "print(cl_v_data_y.shape)\n",
        "print(cl_t_data_x.shape)\n",
        "print(cl_t_data_y.shape)"
      ],
      "metadata": {
        "colab": {
          "base_uri": "https://localhost:8080/"
        },
        "id": "AChnNWWO93t0",
        "outputId": "a0b230f2-2785-4848-803a-7c793ca7ada2"
      },
      "execution_count": 6,
      "outputs": [
        {
          "output_type": "stream",
          "name": "stdout",
          "text": [
            "(11547, 55, 47, 3)\n",
            "(11547,)\n",
            "(12830, 55, 47, 3)\n",
            "(12830,)\n",
            "(11547, 55, 47, 3)\n",
            "(11547,)\n",
            "(12830, 55, 47, 3)\n",
            "(12830,)\n"
          ]
        }
      ]
    },
    {
      "cell_type": "code",
      "source": [
        "print('The range of labels in clean data is from %d to %d'%(np.min(cl_t_data_y),np.max(cl_t_data_y)))"
      ],
      "metadata": {
        "colab": {
          "base_uri": "https://localhost:8080/"
        },
        "id": "JcDSx2UZ-gDU",
        "outputId": "3dc4a0a0-e513-43b7-a998-f303c7e02c53"
      },
      "execution_count": 7,
      "outputs": [
        {
          "output_type": "stream",
          "name": "stdout",
          "text": [
            "The range of labels in clean data is from 0 to 1282\n"
          ]
        }
      ]
    },
    {
      "cell_type": "code",
      "source": [
        "print('The range of labels in bad data is from %d to %d'%(np.min(bd_t_data_y),np.max(bd_t_data_y)))"
      ],
      "metadata": {
        "colab": {
          "base_uri": "https://localhost:8080/"
        },
        "id": "ca3MIKvGCB3F",
        "outputId": "2d41caaf-b79d-40b6-db94-b4ba64e3e4ff"
      },
      "execution_count": 8,
      "outputs": [
        {
          "output_type": "stream",
          "name": "stdout",
          "text": [
            "The range of labels in bad data is from 0 to 0\n"
          ]
        }
      ]
    },
    {
      "cell_type": "markdown",
      "source": [
        "##Load Model##"
      ],
      "metadata": {
        "id": "LZEnRlDqCRgs"
      }
    },
    {
      "cell_type": "code",
      "source": [
        "bd_model_path = '/content/model/bd_net.h5'\n",
        "bd_weights_path = '/content/model/bd_weights.h5'\n",
        "bd_model = keras.models.load_model(bd_model_path)\n",
        "bd_model.load_weights(bd_weights_path)\n",
        "bd_model.summary()"
      ],
      "metadata": {
        "colab": {
          "base_uri": "https://localhost:8080/"
        },
        "id": "o1JKfMBpCUyc",
        "outputId": "8981b1e6-1281-43d0-bdc0-d1bd7545f240"
      },
      "execution_count": 9,
      "outputs": [
        {
          "output_type": "stream",
          "name": "stdout",
          "text": [
            "Model: \"model_1\"\n",
            "__________________________________________________________________________________________________\n",
            " Layer (type)                   Output Shape         Param #     Connected to                     \n",
            "==================================================================================================\n",
            " input (InputLayer)             [(None, 55, 47, 3)]  0           []                               \n",
            "                                                                                                  \n",
            " conv_1 (Conv2D)                (None, 52, 44, 20)   980         ['input[0][0]']                  \n",
            "                                                                                                  \n",
            " pool_1 (MaxPooling2D)          (None, 26, 22, 20)   0           ['conv_1[0][0]']                 \n",
            "                                                                                                  \n",
            " conv_2 (Conv2D)                (None, 24, 20, 40)   7240        ['pool_1[0][0]']                 \n",
            "                                                                                                  \n",
            " pool_2 (MaxPooling2D)          (None, 12, 10, 40)   0           ['conv_2[0][0]']                 \n",
            "                                                                                                  \n",
            " conv_3 (Conv2D)                (None, 10, 8, 60)    21660       ['pool_2[0][0]']                 \n",
            "                                                                                                  \n",
            " pool_3 (MaxPooling2D)          (None, 5, 4, 60)     0           ['conv_3[0][0]']                 \n",
            "                                                                                                  \n",
            " conv_4 (Conv2D)                (None, 4, 3, 80)     19280       ['pool_3[0][0]']                 \n",
            "                                                                                                  \n",
            " flatten_1 (Flatten)            (None, 1200)         0           ['pool_3[0][0]']                 \n",
            "                                                                                                  \n",
            " flatten_2 (Flatten)            (None, 960)          0           ['conv_4[0][0]']                 \n",
            "                                                                                                  \n",
            " fc_1 (Dense)                   (None, 160)          192160      ['flatten_1[0][0]']              \n",
            "                                                                                                  \n",
            " fc_2 (Dense)                   (None, 160)          153760      ['flatten_2[0][0]']              \n",
            "                                                                                                  \n",
            " add_1 (Add)                    (None, 160)          0           ['fc_1[0][0]',                   \n",
            "                                                                  'fc_2[0][0]']                   \n",
            "                                                                                                  \n",
            " activation_1 (Activation)      (None, 160)          0           ['add_1[0][0]']                  \n",
            "                                                                                                  \n",
            " output (Dense)                 (None, 1283)         206563      ['activation_1[0][0]']           \n",
            "                                                                                                  \n",
            "==================================================================================================\n",
            "Total params: 601,643\n",
            "Trainable params: 601,643\n",
            "Non-trainable params: 0\n",
            "__________________________________________________________________________________________________\n"
          ]
        }
      ]
    },
    {
      "cell_type": "code",
      "source": [
        "def evaluate(bd_net, x_data, y_data):\n",
        "  clean_label_p = np.argmax(bd_net.predict(x_data), axis=1)\n",
        "  class_accu = np.mean(np.equal(clean_label_p, y_data))*100\n",
        "  return class_accu"
      ],
      "metadata": {
        "id": "jwBQgMfIEnls"
      },
      "execution_count": 10,
      "outputs": []
    },
    {
      "cell_type": "code",
      "source": [
        "print('Accuracy on clean test dataset: ', evaluate(bd_model, cl_t_data_x, cl_t_data_y))\n",
        "print('Accuracy on clean validation dataset: ', evaluate(bd_model, cl_v_data_x, cl_v_data_y))\n",
        "print('Accuracy on sunglasses poisoned test dataset:', evaluate(bd_model, bd_t_data_x, bd_t_data_y))\n",
        "print('Accuracy on sunglasses poisoned validation dataset:', evaluate(bd_model, bd_v_data_x, bd_v_data_y))"
      ],
      "metadata": {
        "colab": {
          "base_uri": "https://localhost:8080/"
        },
        "id": "x9u7uaR5IAJd",
        "outputId": "80f0e3ed-5433-4596-e2c9-0141ed28ab99"
      },
      "execution_count": 11,
      "outputs": [
        {
          "output_type": "stream",
          "name": "stdout",
          "text": [
            "Accuracy on clean test dataset:  98.62042088854248\n",
            "Accuracy on clean validation dataset:  98.64899974019225\n",
            "Accuracy on sunglasses poisoned test dataset: 100.0\n",
            "Accuracy on sunglasses poisoned validation dataset: 100.0\n"
          ]
        }
      ]
    },
    {
      "cell_type": "markdown",
      "source": [
        "##Prune##"
      ],
      "metadata": {
        "id": "ruCaoikWhmn6"
      }
    },
    {
      "cell_type": "markdown",
      "source": [
        "We could ouput the  average activation values of each channel and sort them in increasing order."
      ],
      "metadata": {
        "id": "Rg4lQ_cYlcnT"
      }
    },
    {
      "cell_type": "code",
      "source": [
        "layer = bd_model.get_layer('pool_3')\n",
        "keras_function = K.function([bd_model.input], [layer.output])\n",
        "layer_outs = keras_function([cl_v_data_x])\n",
        "activation = np.mean(np.array(layer_outs), axis=(0,1,2,3))\n",
        "print(activation)\n",
        "indexes = np.argsort(activation)\n",
        "print(indexes)"
      ],
      "metadata": {
        "colab": {
          "base_uri": "https://localhost:8080/"
        },
        "id": "kItoakC_hpJ6",
        "outputId": "3f159315-4762-4ff2-aa5f-3cd6bc8f5ef5"
      },
      "execution_count": 12,
      "outputs": [
        {
          "output_type": "stream",
          "name": "stdout",
          "text": [
            "[0.0000000e+00 8.5787797e-01 0.0000000e+00 5.3079778e-01 5.1451392e+00\n",
            " 2.0289588e+00 6.2408661e-03 5.3690357e+00 2.1106052e+00 0.0000000e+00\n",
            " 4.1488924e+00 2.1980376e+00 0.0000000e+00 0.0000000e+00 0.0000000e+00\n",
            " 0.0000000e+00 1.5654888e+00 0.0000000e+00 5.0868411e+00 2.4381575e-01\n",
            " 1.8378231e-01 8.3539173e-02 4.3979675e-02 3.0290761e-03 0.0000000e+00\n",
            " 0.0000000e+00 0.0000000e+00 0.0000000e+00 4.8440871e+00 1.0589781e+00\n",
            " 0.0000000e+00 0.0000000e+00 1.5006668e-02 0.0000000e+00 0.0000000e+00\n",
            " 4.8648086e+00 0.0000000e+00 0.0000000e+00 0.0000000e+00 0.0000000e+00\n",
            " 0.0000000e+00 0.0000000e+00 5.7658589e-01 4.2763174e-01 0.0000000e+00\n",
            " 0.0000000e+00 1.8540378e+00 0.0000000e+00 0.0000000e+00 0.0000000e+00\n",
            " 0.0000000e+00 1.3321567e-02 6.2038713e+00 0.0000000e+00 3.6191154e+00\n",
            " 0.0000000e+00 1.6352932e+00 8.2229824e+00 5.0732863e-01 0.0000000e+00]\n",
            "[ 0 26 27 30 31 33 34 36 37 38 25 39 41 44 45 47 48 49 50 53 55 40 24 59\n",
            "  9  2 12 13 17 14 15 23  6 51 32 22 21 20 19 43 58  3 42  1 29 16 56 46\n",
            "  5  8 11 54 10 28 35 18  4  7 52 57]\n"
          ]
        }
      ]
    },
    {
      "cell_type": "markdown",
      "source": [
        "We will prune them using indexes array."
      ],
      "metadata": {
        "id": "TrXfCB8Pl-eq"
      }
    },
    {
      "cell_type": "code",
      "source": [
        "conv3_layer = bd_model.get_layer('conv_3')\n",
        "conv3_weights, conv3_biases = conv3_layer.get_weights()\n",
        "i=0\n",
        "acc=[]\n",
        "asr=[]\n",
        "for idx in indexes:\n",
        "  conv3_weights[:,:,:,idx] = 0\n",
        "  conv3_biases[i] = 0\n",
        "  conv3_layer.set_weights([conv3_weights,conv3_biases])\n",
        "  i+=1\n",
        "  print('epoch',i)\n",
        "  acc_cur=evaluate(bd_model, cl_t_data_x, cl_t_data_y)\n",
        "  acc.append(acc_cur)\n",
        "  asr_cur=evaluate(bd_model, bd_t_data_x, bd_t_data_y)\n",
        "  asr.append(asr_cur)\n",
        "  print('Attack Success Rate:', asr_cur)\n",
        "  print('Accuracy:', acc_cur)"
      ],
      "metadata": {
        "colab": {
          "base_uri": "https://localhost:8080/"
        },
        "id": "bKbWaZrxiiEi",
        "outputId": "a459f7f0-05ab-4024-8c42-931682376ee8"
      },
      "execution_count": 13,
      "outputs": [
        {
          "output_type": "stream",
          "name": "stdout",
          "text": [
            "epoch 1\n",
            "Attack Success Rate: 100.0\n",
            "Accuracy: 98.62042088854248\n",
            "epoch 2\n",
            "Attack Success Rate: 100.0\n",
            "Accuracy: 98.62042088854248\n",
            "epoch 3\n",
            "Attack Success Rate: 100.0\n",
            "Accuracy: 98.62042088854248\n",
            "epoch 4\n",
            "Attack Success Rate: 100.0\n",
            "Accuracy: 98.62042088854248\n",
            "epoch 5\n",
            "Attack Success Rate: 100.0\n",
            "Accuracy: 98.62042088854248\n",
            "epoch 6\n",
            "Attack Success Rate: 100.0\n",
            "Accuracy: 98.62042088854248\n",
            "epoch 7\n",
            "Attack Success Rate: 100.0\n",
            "Accuracy: 98.62042088854248\n",
            "epoch 8\n",
            "Attack Success Rate: 100.0\n",
            "Accuracy: 98.62042088854248\n",
            "epoch 9\n",
            "Attack Success Rate: 100.0\n",
            "Accuracy: 98.61262665627436\n",
            "epoch 10\n",
            "Attack Success Rate: 100.0\n",
            "Accuracy: 98.61262665627436\n",
            "epoch 11\n",
            "Attack Success Rate: 100.0\n",
            "Accuracy: 98.62042088854248\n",
            "epoch 12\n",
            "Attack Success Rate: 100.0\n",
            "Accuracy: 98.61262665627436\n",
            "epoch 13\n",
            "Attack Success Rate: 100.0\n",
            "Accuracy: 98.61262665627436\n",
            "epoch 14\n",
            "Attack Success Rate: 100.0\n",
            "Accuracy: 98.61262665627436\n",
            "epoch 15\n",
            "Attack Success Rate: 100.0\n",
            "Accuracy: 98.61262665627436\n",
            "epoch 16\n",
            "Attack Success Rate: 100.0\n",
            "Accuracy: 98.61262665627436\n",
            "epoch 17\n",
            "Attack Success Rate: 100.0\n",
            "Accuracy: 98.61262665627436\n",
            "epoch 18\n",
            "Attack Success Rate: 100.0\n",
            "Accuracy: 98.61262665627436\n",
            "epoch 19\n",
            "Attack Success Rate: 100.0\n",
            "Accuracy: 98.61262665627436\n",
            "epoch 20\n",
            "Attack Success Rate: 100.0\n",
            "Accuracy: 98.61262665627436\n",
            "epoch 21\n",
            "Attack Success Rate: 100.0\n",
            "Accuracy: 98.61262665627436\n",
            "epoch 22\n",
            "Attack Success Rate: 100.0\n",
            "Accuracy: 98.61262665627436\n",
            "epoch 23\n",
            "Attack Success Rate: 100.0\n",
            "Accuracy: 98.61262665627436\n",
            "epoch 24\n",
            "Attack Success Rate: 100.0\n",
            "Accuracy: 98.61262665627436\n",
            "epoch 25\n",
            "Attack Success Rate: 100.0\n",
            "Accuracy: 98.61262665627436\n",
            "epoch 26\n",
            "Attack Success Rate: 100.0\n",
            "Accuracy: 98.61262665627436\n",
            "epoch 27\n",
            "Attack Success Rate: 100.0\n",
            "Accuracy: 98.61262665627436\n",
            "epoch 28\n",
            "Attack Success Rate: 100.0\n",
            "Accuracy: 98.61262665627436\n",
            "epoch 29\n",
            "Attack Success Rate: 100.0\n",
            "Accuracy: 98.61262665627436\n",
            "epoch 30\n",
            "Attack Success Rate: 100.0\n",
            "Accuracy: 98.61262665627436\n",
            "epoch 31\n",
            "Attack Success Rate: 100.0\n",
            "Accuracy: 98.61262665627436\n",
            "epoch 32\n",
            "Attack Success Rate: 100.0\n",
            "Accuracy: 98.61262665627436\n",
            "epoch 33\n",
            "Attack Success Rate: 100.0\n",
            "Accuracy: 98.61262665627436\n",
            "epoch 34\n",
            "Attack Success Rate: 100.0\n",
            "Accuracy: 98.61262665627436\n",
            "epoch 35\n",
            "Attack Success Rate: 100.0\n",
            "Accuracy: 98.61262665627436\n",
            "epoch 36\n",
            "Attack Success Rate: 100.0\n",
            "Accuracy: 98.60483242400623\n",
            "epoch 37\n",
            "Attack Success Rate: 100.0\n",
            "Accuracy: 98.60483242400623\n",
            "epoch 38\n",
            "Attack Success Rate: 100.0\n",
            "Accuracy: 98.56586126266563\n",
            "epoch 39\n",
            "Attack Success Rate: 100.0\n",
            "Accuracy: 98.53468433359313\n",
            "epoch 40\n",
            "Attack Success Rate: 100.0\n",
            "Accuracy: 98.53468433359313\n",
            "epoch 41\n",
            "Attack Success Rate: 100.0\n",
            "Accuracy: 98.5190958690569\n",
            "epoch 42\n",
            "Attack Success Rate: 100.0\n",
            "Accuracy: 98.23070927513639\n",
            "epoch 43\n",
            "Attack Success Rate: 100.0\n",
            "Accuracy: 97.84099766173033\n",
            "epoch 44\n",
            "Attack Success Rate: 100.0\n",
            "Accuracy: 97.6149649259548\n",
            "epoch 45\n",
            "Attack Success Rate: 100.0\n",
            "Accuracy: 95.86126266562744\n",
            "epoch 46\n",
            "Attack Success Rate: 99.98441153546376\n",
            "Accuracy: 95.5261106780982\n",
            "epoch 47\n",
            "Attack Success Rate: 99.98441153546376\n",
            "Accuracy: 94.98830865159782\n",
            "epoch 48\n",
            "Attack Success Rate: 99.98441153546376\n",
            "Accuracy: 92.15120810600156\n",
            "epoch 49\n",
            "Attack Success Rate: 99.98441153546376\n",
            "Accuracy: 91.77708495713173\n",
            "epoch 50\n",
            "Attack Success Rate: 99.98441153546376\n",
            "Accuracy: 91.25487139516758\n",
            "epoch 51\n",
            "Attack Success Rate: 80.92751363990646\n",
            "Accuracy: 89.84411535463757\n",
            "epoch 52\n",
            "Attack Success Rate: 77.58378799688231\n",
            "Accuracy: 84.6609508963367\n",
            "epoch 53\n",
            "Attack Success Rate: 36.59392049883087\n",
            "Accuracy: 76.32112236944661\n",
            "epoch 54\n",
            "Attack Success Rate: 6.897895557287607\n",
            "Accuracy: 54.606391270459866\n",
            "epoch 55\n",
            "Attack Success Rate: 0.4208885424785659\n",
            "Accuracy: 26.936866718628217\n",
            "epoch 56\n",
            "Attack Success Rate: 0.0\n",
            "Accuracy: 13.655494933749027\n",
            "epoch 57\n",
            "Attack Success Rate: 0.0\n",
            "Accuracy: 6.484801247077162\n",
            "epoch 58\n",
            "Attack Success Rate: 0.0\n",
            "Accuracy: 1.504286827747467\n",
            "epoch 59\n",
            "Attack Success Rate: 0.0\n",
            "Accuracy: 0.6391270459859705\n",
            "epoch 60\n",
            "Attack Success Rate: 0.0\n",
            "Accuracy: 0.0779423226812159\n"
          ]
        }
      ]
    },
    {
      "cell_type": "markdown",
      "source": [
        "##Plot the Accuracy and the Attack Success Rate##"
      ],
      "metadata": {
        "id": "peP3k9iyF0SJ"
      }
    },
    {
      "cell_type": "code",
      "source": [
        "import matplotlib.pyplot as plt\n",
        "plt.figure(figsize=(8, 8))\n",
        "frac = np.array(range(60))/59\n",
        "plt.plot(frac, acc / acc[0], label='acc')\n",
        "plt.plot(frac, asr / asr[0], label='asr')\n",
        "plt.xlabel('fraction of pruned channels')\n",
        "plt.ylabel('acc & asr rate')"
      ],
      "metadata": {
        "colab": {
          "base_uri": "https://localhost:8080/",
          "height": 515
        },
        "id": "VqjXrTvSxS2t",
        "outputId": "ac04aa5e-a41f-4cee-cccc-7b097843b1d7"
      },
      "execution_count": 14,
      "outputs": [
        {
          "output_type": "execute_result",
          "data": {
            "text/plain": [
              "Text(0, 0.5, 'acc & asr rate')"
            ]
          },
          "metadata": {},
          "execution_count": 14
        },
        {
          "output_type": "display_data",
          "data": {
            "image/png": "[encoded data removed]",
            "text/plain": [
              "<Figure size 576x576 with 1 Axes>"
            ]
          },
          "metadata": {
            "needs_background": "light"
          }
        }
      ]
    },
    {
      "cell_type": "markdown",
      "source": [
        "##Store Models##"
      ],
      "metadata": {
        "id": "EJT7XteEF9fJ"
      }
    },
    {
      "cell_type": "markdown",
      "source": [
        "We could see that when the accuracy dropped by 2%, 4%, 10%, 30% when prune 45, 48, 52, 54 channels repectively. Thus we could restore the model and prune it again to get the expected models."
      ],
      "metadata": {
        "id": "8edWUS-Pxdd_"
      }
    },
    {
      "cell_type": "code",
      "source": [
        "def get_expected_model(epoches): \n",
        "  bd_model = keras.models.load_model(bd_model_path)\n",
        "  acc_original=evaluate(bd_model, cl_t_data_x, cl_t_data_y)\n",
        "  conv3_layer = bd_model.get_layer('conv_3')\n",
        "  conv3_weights, conv3_biases = conv3_layer.get_weights()\n",
        "  i=0\n",
        "  for idx in indexes:\n",
        "    conv3_weights[:,:,:,idx] = 0\n",
        "    conv3_biases[i] = 0\n",
        "    conv3_layer.set_weights([conv3_weights,conv3_biases])\n",
        "    i+=1\n",
        "    if i==epoches:\n",
        "      break\n",
        "  return bd_model"
      ],
      "metadata": {
        "id": "7H_VETFZ2vNy"
      },
      "execution_count": 15,
      "outputs": []
    },
    {
      "cell_type": "code",
      "source": [
        "# 2%\n",
        "expected_model = get_expected_model(45)"
      ],
      "metadata": {
        "id": "v0QbT506yWlr"
      },
      "execution_count": 16,
      "outputs": []
    },
    {
      "cell_type": "code",
      "source": [
        "bd_model = keras.models.load_model(bd_model_path)\n",
        "acc_begin = evaluate(bd_model, cl_t_data_x, cl_t_data_y)\n",
        "acc_cur = evaluate(expected_model, cl_t_data_x, cl_t_data_y)\n",
        "print('Accuracy of current model:', acc_cur)\n",
        "print('Accuracy dropped: ', acc_begin-acc_cur)\n",
        "expected_model.save('/content/repaired_models/repair2.h5')"
      ],
      "metadata": {
        "colab": {
          "base_uri": "https://localhost:8080/"
        },
        "id": "akCQRxaA5UYC",
        "outputId": "1ee79c72-efe7-42cc-be49-91df9697a4c6"
      },
      "execution_count": 17,
      "outputs": [
        {
          "output_type": "stream",
          "name": "stdout",
          "text": [
            "Accuracy of current model: 95.86126266562744\n",
            "Accuracy dropped:  2.7591582229150475\n"
          ]
        },
        {
          "output_type": "stream",
          "name": "stderr",
          "text": [
            "/usr/local/lib/python3.7/dist-packages/keras/engine/functional.py:1410: CustomMaskWarning: Custom mask layers require a config and must override get_config. When loading, the custom mask layer must be passed to the custom_objects argument.\n",
            "  layer_config = serialize_layer_fn(layer)\n"
          ]
        }
      ]
    },
    {
      "cell_type": "code",
      "source": [
        "# 4%\n",
        "expected_model = get_expected_model(48)"
      ],
      "metadata": {
        "id": "-n3VtbnE_1ra"
      },
      "execution_count": 18,
      "outputs": []
    },
    {
      "cell_type": "code",
      "source": [
        "bd_model = keras.models.load_model(bd_model_path)\n",
        "acc_begin = evaluate(bd_model, cl_t_data_x, cl_t_data_y)\n",
        "acc_cur = evaluate(expected_model, cl_t_data_x, cl_t_data_y)\n",
        "print('Accuracy of current model:', acc_cur)\n",
        "print('Accuracy dropped: ', acc_begin-acc_cur)\n",
        "expected_model.save('/content/repaired_models/repair4.h5')"
      ],
      "metadata": {
        "colab": {
          "base_uri": "https://localhost:8080/"
        },
        "id": "WELLrEiX_-9x",
        "outputId": "0ef0d636-821c-4618-a74d-a45f44b4ca18"
      },
      "execution_count": 19,
      "outputs": [
        {
          "output_type": "stream",
          "name": "stdout",
          "text": [
            "Accuracy of current model: 92.15120810600156\n",
            "Accuracy dropped:  6.469212782540922\n"
          ]
        },
        {
          "output_type": "stream",
          "name": "stderr",
          "text": [
            "/usr/local/lib/python3.7/dist-packages/keras/engine/functional.py:1410: CustomMaskWarning: Custom mask layers require a config and must override get_config. When loading, the custom mask layer must be passed to the custom_objects argument.\n",
            "  layer_config = serialize_layer_fn(layer)\n"
          ]
        }
      ]
    },
    {
      "cell_type": "code",
      "source": [
        "# 10%\n",
        "expected_model = get_expected_model(52)"
      ],
      "metadata": {
        "id": "5nK-0lQXAL6b"
      },
      "execution_count": 20,
      "outputs": []
    },
    {
      "cell_type": "code",
      "source": [
        "bd_model = keras.models.load_model(bd_model_path)\n",
        "acc_begin = evaluate(bd_model, cl_t_data_x, cl_t_data_y)\n",
        "acc_cur = evaluate(expected_model, cl_t_data_x, cl_t_data_y)\n",
        "print('Accuracy of current model:', acc_cur)\n",
        "print('Accuracy dropped: ', acc_begin-acc_cur)\n",
        "expected_model.save('/content/repaired_models/repair10.h5')"
      ],
      "metadata": {
        "colab": {
          "base_uri": "https://localhost:8080/"
        },
        "id": "lSlKAukoAPAZ",
        "outputId": "22802a13-54f7-4233-f849-960b9e37d728"
      },
      "execution_count": 21,
      "outputs": [
        {
          "output_type": "stream",
          "name": "stdout",
          "text": [
            "Accuracy of current model: 84.6609508963367\n",
            "Accuracy dropped:  13.959469992205783\n"
          ]
        },
        {
          "output_type": "stream",
          "name": "stderr",
          "text": [
            "/usr/local/lib/python3.7/dist-packages/keras/engine/functional.py:1410: CustomMaskWarning: Custom mask layers require a config and must override get_config. When loading, the custom mask layer must be passed to the custom_objects argument.\n",
            "  layer_config = serialize_layer_fn(layer)\n"
          ]
        }
      ]
    },
    {
      "cell_type": "code",
      "source": [
        "# 30%\n",
        "expected_model = get_expected_model(54)"
      ],
      "metadata": {
        "id": "Imsyto_VNKk4"
      },
      "execution_count": 22,
      "outputs": []
    },
    {
      "cell_type": "code",
      "source": [
        "bd_model = keras.models.load_model(bd_model_path)\n",
        "acc_begin = evaluate(bd_model, cl_t_data_x, cl_t_data_y)\n",
        "acc_cur = evaluate(expected_model, cl_t_data_x, cl_t_data_y)\n",
        "print('Accuracy of current model:', acc_cur)\n",
        "print('Accuracy dropped: ', acc_begin-acc_cur)\n",
        "expected_model.save('/content/repaired_models/repair30.h5')"
      ],
      "metadata": {
        "colab": {
          "base_uri": "https://localhost:8080/"
        },
        "id": "BJ_g5j86NKzA",
        "outputId": "595f5d25-0f79-45df-987d-8dbbbfc4cd38"
      },
      "execution_count": 23,
      "outputs": [
        {
          "output_type": "stream",
          "name": "stdout",
          "text": [
            "Accuracy of current model: 54.606391270459866\n",
            "Accuracy dropped:  44.01402961808262\n"
          ]
        },
        {
          "output_type": "stream",
          "name": "stderr",
          "text": [
            "/usr/local/lib/python3.7/dist-packages/keras/engine/functional.py:1410: CustomMaskWarning: Custom mask layers require a config and must override get_config. When loading, the custom mask layer must be passed to the custom_objects argument.\n",
            "  layer_config = serialize_layer_fn(layer)\n"
          ]
        }
      ]
    },
    {
      "cell_type": "markdown",
      "source": [
        "##Evaluate Model##"
      ],
      "metadata": {
        "id": "MqMR8PUyOse0"
      }
    },
    {
      "cell_type": "code",
      "source": [
        "!gdown https://drive.google.com/u/1/uc?id=1swrvR_2s0zWGSP0krmVSr2x7njEJDbi2\n",
        "!mkdir scripts\n",
        "!mv /content/eval.py /content/scripts"
      ],
      "metadata": {
        "colab": {
          "base_uri": "https://localhost:8080/"
        },
        "id": "lxVuU5RdOsEg",
        "outputId": "02c90e8f-35e6-46d6-baaa-6b8f07608b7d"
      },
      "execution_count": 24,
      "outputs": [
        {
          "output_type": "stream",
          "name": "stdout",
          "text": [
            "Downloading...\n",
            "From: https://drive.google.com/u/1/uc?id=1swrvR_2s0zWGSP0krmVSr2x7njEJDbi2\n",
            "To: /content/eval.py\n",
            "\r  0% 0.00/961 [00:00<?, ?B/s]\r100% 961/961 [00:00<00:00, 421kB/s]\n"
          ]
        }
      ]
    },
    {
      "cell_type": "code",
      "source": [
        "!python /content/scripts/eval.py /content/data/cl/test.h5 /content/data/bd/bd_test.h5 /content/repaired_models/repair2.h5"
      ],
      "metadata": {
        "colab": {
          "base_uri": "https://localhost:8080/"
        },
        "id": "J8yxoAcfPHyB",
        "outputId": "49a40ee5-85e5-4397-e48a-a8c2dcff5658"
      },
      "execution_count": 25,
      "outputs": [
        {
          "output_type": "stream",
          "name": "stdout",
          "text": [
            "2021-12-16 17:25:02.644960: E tensorflow/stream_executor/cuda/cuda_driver.cc:271] failed call to cuInit: CUDA_ERROR_NO_DEVICE: no CUDA-capable device is detected\n",
            "Clean Classification accuracy: 95.86126266562744\n",
            "Attack Success Rate: 100.0\n"
          ]
        }
      ]
    },
    {
      "cell_type": "code",
      "source": [
        "!python /content/scripts/eval.py /content/data/cl/test.h5 /content/data/bd/bd_test.h5 /content/repaired_models/repair4.h5"
      ],
      "metadata": {
        "colab": {
          "base_uri": "https://localhost:8080/"
        },
        "id": "POBAm9gHQC2o",
        "outputId": "d50f5581-959d-49a7-d02e-8b3e5b7ebeed"
      },
      "execution_count": 26,
      "outputs": [
        {
          "output_type": "stream",
          "name": "stdout",
          "text": [
            "2021-12-16 17:25:23.665080: E tensorflow/stream_executor/cuda/cuda_driver.cc:271] failed call to cuInit: CUDA_ERROR_NO_DEVICE: no CUDA-capable device is detected\n",
            "Clean Classification accuracy: 92.15120810600156\n",
            "Attack Success Rate: 99.98441153546376\n"
          ]
        }
      ]
    },
    {
      "cell_type": "code",
      "source": [
        "!python /content/scripts/eval.py /content/data/cl/test.h5 /content/data/bd/bd_test.h5 /content/repaired_models/repair10.h5"
      ],
      "metadata": {
        "colab": {
          "base_uri": "https://localhost:8080/"
        },
        "id": "QTn2zHfEQDQK",
        "outputId": "12f5a124-8064-482e-9f55-6a7c24ce38ca"
      },
      "execution_count": 27,
      "outputs": [
        {
          "output_type": "stream",
          "name": "stdout",
          "text": [
            "2021-12-16 17:25:39.449976: E tensorflow/stream_executor/cuda/cuda_driver.cc:271] failed call to cuInit: CUDA_ERROR_NO_DEVICE: no CUDA-capable device is detected\n",
            "Clean Classification accuracy: 84.6609508963367\n",
            "Attack Success Rate: 77.58378799688231\n"
          ]
        }
      ]
    },
    {
      "cell_type": "code",
      "source": [
        "!python /content/scripts/eval.py /content/data/cl/test.h5 /content/data/bd/bd_test.h5 /content/repaired_models/repair30.h5"
      ],
      "metadata": {
        "colab": {
          "base_uri": "https://localhost:8080/"
        },
        "id": "3kzWwRLyNQU3",
        "outputId": "d17f05e5-979c-47a0-fafe-6af28aadf5b4"
      },
      "execution_count": 28,
      "outputs": [
        {
          "output_type": "stream",
          "name": "stdout",
          "text": [
            "2021-12-16 17:26:00.248460: E tensorflow/stream_executor/cuda/cuda_driver.cc:271] failed call to cuInit: CUDA_ERROR_NO_DEVICE: no CUDA-capable device is detected\n",
            "Clean Classification accuracy: 54.606391270459866\n",
            "Attack Success Rate: 6.897895557287607\n"
          ]
        }
      ]
    },
    {
      "cell_type": "markdown",
      "source": [
        "If the classification outputs are the same, i.e., class i, you will output class i. If they differ you will output N+1.\n",
        "\n",
        "Let us define a good net, which accepts two models and input x as its input then outputs the corresponding predicted y."
      ],
      "metadata": {
        "id": "VrEwHYolRimx"
      }
    },
    {
      "cell_type": "code",
      "source": [
        "def Good_Net(repaired_model, bad_model, data):\n",
        "  x=data\n",
        "  y_pred_B_repaired = np.argmax(repaired_model.predict(x), axis=1)\n",
        "  y_pred_B_bad = np.argmax(bad_model.predict(x), axis=1)\n",
        "\n",
        "  y_hat = [y_pred_B_repaired[i] if y_pred_B_repaired[i] == y_pred_B_bad[i] else 1283 for i in range(len(y_pred_B_repaired))]\n",
        "  return y_hat"
      ],
      "metadata": {
        "id": "jTRAuOi-TO_Z"
      },
      "execution_count": 29,
      "outputs": []
    },
    {
      "cell_type": "code",
      "source": [
        "# X=2\n",
        "cur_model = keras.models.load_model('/content/repaired_models/repair2.h5')\n",
        "bd_model = keras.models.load_model(bd_model_path)"
      ],
      "metadata": {
        "id": "KEtGoe6fThXh"
      },
      "execution_count": 30,
      "outputs": []
    },
    {
      "cell_type": "code",
      "source": [
        "# B' = 2%-repaired_model\n",
        "y_pred_2 = Good_Net(cur_model, bd_model, cl_t_data_x)\n",
        "print('Accuracy on clean test dataset: ',np.mean(np.equal(y_pred_2, cl_t_data_y)) * 100)\n",
        "y_pred_2 = Good_Net(cur_model, bd_model, bd_t_data_x)\n",
        "print('Attack Suceess Rate: ',np.mean(np.equal(y_pred_2, bd_t_data_y)) * 100)"
      ],
      "metadata": {
        "colab": {
          "base_uri": "https://localhost:8080/"
        },
        "id": "UWuC1Vj3RnzB",
        "outputId": "a00310fb-f88f-4429-a55e-b455d329899c"
      },
      "execution_count": 31,
      "outputs": [
        {
          "output_type": "stream",
          "name": "stdout",
          "text": [
            "Accuracy on clean test dataset:  95.705378020265\n",
            "Attack Suceess Rate:  100.0\n"
          ]
        }
      ]
    },
    {
      "cell_type": "code",
      "source": [
        "# X=4\n",
        "cur_model = keras.models.load_model('/content/repaired_models/repair4.h5')\n",
        "bd_model = keras.models.load_model(bd_model_path)\n",
        "# B' = 4%-repaired_model\n",
        "y_pred_4 = Good_Net(cur_model, bd_model, cl_t_data_x)\n",
        "print('Accuracy on clean test dataset: ',np.mean(np.equal(y_pred_4, cl_t_data_y)) * 100)\n",
        "y_pred_4 = Good_Net(cur_model, bd_model, bd_t_data_x)\n",
        "print('Attack Suceess Rate: ',np.mean(np.equal(y_pred_4, bd_t_data_y)) * 100)"
      ],
      "metadata": {
        "colab": {
          "base_uri": "https://localhost:8080/"
        },
        "id": "4JX1tzgYcF9Q",
        "outputId": "830ad14b-a41f-449d-c005-e8a394e12847"
      },
      "execution_count": 32,
      "outputs": [
        {
          "output_type": "stream",
          "name": "stdout",
          "text": [
            "Accuracy on clean test dataset:  91.99532346063913\n",
            "Attack Suceess Rate:  99.98441153546376\n"
          ]
        }
      ]
    },
    {
      "cell_type": "code",
      "source": [
        "# X=10\n",
        "cur_model = keras.models.load_model('/content/repaired_models/repair10.h5')\n",
        "bd_model = keras.models.load_model(bd_model_path)\n",
        "# B' = 10%-repaired_model\n",
        "y_pred_10 = Good_Net(cur_model, bd_model, cl_t_data_x)\n",
        "print('Accuracy on clean test dataset: ',np.mean(np.equal(y_pred_10, cl_t_data_y)) * 100)\n",
        "y_pred_10 = Good_Net(cur_model, bd_model, bd_t_data_x)\n",
        "print('Attack Suceess Rate: ',np.mean(np.equal(y_pred_10, bd_t_data_y)) * 100)"
      ],
      "metadata": {
        "colab": {
          "base_uri": "https://localhost:8080/"
        },
        "id": "_DPGi9HAcJEQ",
        "outputId": "3ac116fd-1f7f-4b58-d01e-726e9b909354"
      },
      "execution_count": 33,
      "outputs": [
        {
          "output_type": "stream",
          "name": "stdout",
          "text": [
            "Accuracy on clean test dataset:  84.46609508963367\n",
            "Attack Suceess Rate:  77.58378799688231\n"
          ]
        }
      ]
    },
    {
      "cell_type": "code",
      "source": [
        "# X=30\n",
        "cur_model = keras.models.load_model('/content/repaired_models/repair30.h5')\n",
        "bd_model = keras.models.load_model(bd_model_path)\n",
        "# B' = 30%-repaired_model\n",
        "y_pred_10 = Good_Net(cur_model, bd_model, cl_t_data_x)\n",
        "print('Accuracy on clean test dataset: ',np.mean(np.equal(y_pred_10, cl_t_data_y)) * 100)\n",
        "y_pred_10 = Good_Net(cur_model, bd_model, bd_t_data_x)\n",
        "print('Attack Suceess Rate: ',np.mean(np.equal(y_pred_10, bd_t_data_y)) * 100)"
      ],
      "metadata": {
        "colab": {
          "base_uri": "https://localhost:8080/"
        },
        "id": "eHgOdHjjS79P",
        "outputId": "3ee1c1f1-bc41-46e5-e2d9-72a41e8d8200"
      },
      "execution_count": 34,
      "outputs": [
        {
          "output_type": "stream",
          "name": "stdout",
          "text": [
            "Accuracy on clean test dataset:  54.52844894777864\n",
            "Attack Suceess Rate:  6.897895557287607\n"
          ]
        }
      ]
    },
    {
      "cell_type": "markdown",
      "source": [
        "Q: Did the pruning defense work for this model?\n",
        "\n",
        "No. Although the attack success rate dropped a lot, but the accuracy on clean test dataset also dropped a lot, which means that this defense method is not good."
      ],
      "metadata": {
        "id": "GRf50hdLMZFw"
      }
    }
  ]
}